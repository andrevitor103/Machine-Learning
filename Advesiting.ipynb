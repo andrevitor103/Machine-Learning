{
 "cells": [
  {
   "cell_type": "code",
   "execution_count": 39,
   "metadata": {},
   "outputs": [
    {
     "name": "stdout",
     "output_type": "stream",
     "text": [
      "1.5825316802028757\n",
      "4.044704848174974\n",
      "3.095160664554646\n",
      "1.5821239241271172\n"
     ]
    }
   ],
   "source": [
    "import pandas as pd\n",
    "from sklearn.model_selection import train_test_split\n",
    "from sklearn.linear_model import LinearRegression\n",
    "from sklearn import metrics\n",
    "import numpy as np\n",
    "publi = pd.read_csv('http://faculty.marshall.usc.edu/gareth-james/ISL/Advertising.csv', index_col=0)\n",
    "publi.head()\n",
    "tv = 'TV'\n",
    "radio = 'radio'\n",
    "news = 'newspaper'\n",
    "\n",
    "x = publi[[tv,radio,news]]\n",
    "y = publi['sales']\n",
    "\n",
    "x_train, x_test, y_train,y_test = train_test_split(x,y,test_size=0.3, random_state=5)\n",
    "\n",
    "\n",
    "reglin = LinearRegression()\n",
    "reglin.fit(x_train,y_train)\n",
    "y_prev = reglin.predict(x_test)\n",
    "\n",
    "print(np.sqrt(metrics.mean_squared_error(y_test, y_prev)))\n",
    "\n",
    "\n",
    "x = publi[[radio,news]]\n",
    "y = publi['sales']\n",
    "\n",
    "x_train, x_test, y_train,y_test = train_test_split(x,y,test_size=0.3, random_state=5)\n",
    "\n",
    "\n",
    "reglin = LinearRegression()\n",
    "reglin.fit(x_train,y_train)\n",
    "y_prev = reglin.predict(x_test)\n",
    "\n",
    "print(np.sqrt(metrics.mean_squared_error(y_test, y_prev)))\n",
    "\n",
    "\n",
    "x = publi[[tv,news]]\n",
    "y = publi['sales']\n",
    "\n",
    "x_train, x_test, y_train,y_test = train_test_split(x,y,test_size=0.3, random_state=5)\n",
    "\n",
    "\n",
    "reglin = LinearRegression()\n",
    "reglin.fit(x_train,y_train)\n",
    "y_prev = reglin.predict(x_test)\n",
    "\n",
    "print(np.sqrt(metrics.mean_squared_error(y_test, y_prev)))\n",
    "\n",
    "\n",
    "x = publi[[tv,radio]]\n",
    "y = publi['sales']\n",
    "\n",
    "x_train, x_test, y_train,y_test = train_test_split(x,y,test_size=0.3, random_state=5)\n",
    "\n",
    "\n",
    "reglin = LinearRegression()\n",
    "reglin.fit(x_train,y_train)\n",
    "y_prev = reglin.predict(x_test)\n",
    "\n",
    "print(np.sqrt(metrics.mean_squared_error(y_test, y_prev)))"
   ]
  },
  {
   "cell_type": "code",
   "execution_count": null,
   "metadata": {},
   "outputs": [],
   "source": []
  }
 ],
 "metadata": {
  "kernelspec": {
   "display_name": "Python 3",
   "language": "python",
   "name": "python3"
  },
  "language_info": {
   "codemirror_mode": {
    "name": "ipython",
    "version": 3
   },
   "file_extension": ".py",
   "mimetype": "text/x-python",
   "name": "python",
   "nbconvert_exporter": "python",
   "pygments_lexer": "ipython3",
   "version": "3.8.5"
  }
 },
 "nbformat": 4,
 "nbformat_minor": 4
}
