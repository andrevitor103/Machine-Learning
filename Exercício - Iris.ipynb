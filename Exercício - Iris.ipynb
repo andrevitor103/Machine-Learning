{
 "cells": [
  {
   "cell_type": "code",
   "execution_count": 3,
   "metadata": {},
   "outputs": [
    {
     "name": "stdout",
     "output_type": "stream",
     "text": [
      "1 100%\n",
      "2 98%\n",
      "3 96%\n",
      "4 96%\n",
      "5 96%\n",
      "6 97%\n",
      "7 97%\n",
      "8 98%\n",
      "9 98%\n",
      "10 98%\n",
      "11 97%\n",
      "12 98%\n",
      "13 98%\n",
      "14 98%\n",
      "15 98%\n",
      "16 98%\n",
      "17 98%\n",
      "18 97%\n",
      "19 98%\n",
      "20 98%\n",
      "21 98%\n",
      "22 98%\n",
      "23 98%\n",
      "24 97%\n",
      "25 98%\n"
     ]
    }
   ],
   "source": [
    "from sklearn.datasets import load_iris\n",
    "from sklearn.neighbors import KNeighborsClassifier\n",
    "from sklearn import metrics\n",
    "#import matplotlib.pyplot as plt\n",
    "iris = load_iris()\n",
    "x = iris.data\n",
    "y = iris.target\n",
    "k = 1\n",
    "valores = {}\n",
    "for i in range(k,26):\n",
    "    knn = KNeighborsClassifier(n_neighbors=k)\n",
    "    knn.fit(x,y)\n",
    "    previsoes = knn.predict(x)\n",
    "    acertos = metrics.accuracy_score(y,previsoes)\n",
    "    print(k, str(int(acertos*100))+''.join('%'))\n",
    "    valores[k] = acertos\n",
    "    #print(valores[k])\n",
    "    k = k + 1"
   ]
  },
  {
   "cell_type": "code",
   "execution_count": null,
   "metadata": {},
   "outputs": [],
   "source": []
  }
 ],
 "metadata": {
  "kernelspec": {
   "display_name": "Python 3",
   "language": "python",
   "name": "python3"
  },
  "language_info": {
   "codemirror_mode": {
    "name": "ipython",
    "version": 3
   },
   "file_extension": ".py",
   "mimetype": "text/x-python",
   "name": "python",
   "nbconvert_exporter": "python",
   "pygments_lexer": "ipython3",
   "version": "3.8.5"
  }
 },
 "nbformat": 4,
 "nbformat_minor": 4
}
